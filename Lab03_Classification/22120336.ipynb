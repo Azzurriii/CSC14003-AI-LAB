{
 "cells": [
  {
   "cell_type": "markdown",
   "metadata": {},
   "source": [
    "# Lab: Phân lớp\n",
    "\n",
    "- MSSV: 22120336\n",
    "- Họ và tên: Võ Tuấn Thành"
   ]
  },
  {
   "cell_type": "markdown",
   "metadata": {},
   "source": [
    "## Yêu cầu bài tập\n",
    "\n",
    "**Cách làm bài**\n",
    "\n",
    "\n",
    "Bạn sẽ làm trực tiếp trên file notebook này; trong file, từ `TODO` để cho biết những phần mà bạn cần phải làm.\n",
    "\n",
    "Bạn có thể thảo luận ý tưởng cũng như tham khảo các tài liệu, nhưng *code và bài làm phải là của bạn*. \n",
    "\n",
    "Nếu vi phạm thì sẽ bị 0 điểm cho bài tập này.\n",
    "\n",
    "**Cách nộp bài**\n",
    "\n",
    "Trước khi nộp bài, rerun lại notebook (`Kernel` -> `Restart & Run All`).\n",
    "\n",
    "Sau đó, đặt tên notebook bằng `MSSV` của bạn (vd, nếu bạn có MSSV là 1234567 thì bạn đặt tên notebook là `1234567.ipynb`) và nộp ở link trên moodle.\n",
    "\n",
    "**Nội dung bài tập**\n",
    "\n",
    "Trong bài này, bạn sẽ cài đặt 2 thuật toán phân lớp: \n",
    "1. Cây quyết định (Decision tree)\n",
    "2. Gaussian Naive Bayes\n",
    "\n",
    "**Một số lưu ý**\n",
    "1. Chỉ cần phát hiện có dấu hiện có sau chép code sẽ 0 điểm cả lab và có thể dẫn đến không điểm môn học\n",
    "2. Sai format nộp bài sẽ bị trừ 20% số điểm\n",
    "3. Trễ deadline 1 ngày sẽ bị trừ 40% số điểm. Sau 24h kể từ hạn nộp sẽ không nhận bất kì bài nộp bổ sung nào.\n",
    "4. Các thắc mắc về bài tập, các bạn vui lòng liên hệ giáo viên qua email `ntthuhang0131@gmail.com` với tiêu đề `[Cơ sở trí tuệ nhân tạo - CQ2022/22 - Thắc mắc lab 03]`"
   ]
  },
  {
   "cell_type": "markdown",
   "metadata": {},
   "source": [
    "### Thêm thư viện cần thiết"
   ]
  },
  {
   "cell_type": "code",
   "execution_count": 1,
   "metadata": {},
   "outputs": [],
   "source": [
    "import matplotlib.pyplot as plt\n",
    "from sklearn import datasets\n",
    "import pandas as pd\n",
    "import numpy as np\n",
    "from sklearn.metrics import accuracy_score"
   ]
  },
  {
   "cell_type": "markdown",
   "metadata": {},
   "source": [
    "### Load dữ liệu Iris"
   ]
  },
  {
   "cell_type": "code",
   "execution_count": 2,
   "metadata": {},
   "outputs": [],
   "source": [
    "from sklearn.model_selection import train_test_split\n",
    "iris=datasets.load_iris()\n",
    "\n",
    "X=iris.data\n",
    "y=iris.target\n",
    "\n",
    "#split dataset into training data and testing data\n",
    "X_train,X_test,y_train,y_test=train_test_split(X,y,test_size=0.33, random_state=42)"
   ]
  },
  {
   "cell_type": "markdown",
   "metadata": {},
   "source": [
    "## 1. Cây quyết định (Decision Tree)"
   ]
  },
  {
   "cell_type": "markdown",
   "metadata": {},
   "source": [
    "## 1.1 Iterative Dichotomiser 3 (ID3) (2 đ)"
   ]
  },
  {
   "cell_type": "markdown",
   "metadata": {},
   "source": [
    "### 1.1.1 Information Gain"
   ]
  },
  {
   "cell_type": "markdown",
   "metadata": {},
   "source": [
    "Thông tin kỳ vọng (entropy):"
   ]
  },
  {
   "cell_type": "markdown",
   "metadata": {},
   "source": [
    "$$Entropy=-\\sum_{i}^{n}p_ilog_{2}(p_i)$$"
   ]
  },
  {
   "cell_type": "markdown",
   "metadata": {},
   "source": [
    "Hàm entropy đạt giá trị nhỏ nhất nếu có một giá trị $p_i=1$, đạt giá trị lớn nhất nếu tất cả các $p_i$ bằng nhau. Những tính chất này của hàm entropy khiến nó được sử dụng trong việc đo độ hỗn loạn của một phép phân chia của ID3."
   ]
  },
  {
   "cell_type": "code",
   "execution_count": 3,
   "metadata": {},
   "outputs": [],
   "source": [
    "def entropy(counts, n_samples):\n",
    "    \"\"\"\n",
    "    Parameters:\n",
    "    -----------\n",
    "    counts: shape (n_classes): list number of samples in each class\n",
    "    n_samples: number of data samples\n",
    "    \n",
    "    -----------\n",
    "    return entropy \n",
    "    \"\"\"\n",
    "    #TODO\n",
    "    entropy = 0\n",
    "\n",
    "    for count in counts:\n",
    "        if count != 0:\n",
    "            entropy += -count/n_samples * np.log2(count/n_samples)\n",
    "    \n",
    "    return entropy"
   ]
  },
  {
   "cell_type": "code",
   "execution_count": 4,
   "metadata": {},
   "outputs": [],
   "source": [
    "def entropy_of_one_division(division): \n",
    "    \"\"\"\n",
    "    Returns entropy of a divided group of data\n",
    "    Data may have multiple classes\n",
    "    \"\"\"\n",
    "    n_samples = len(division)\n",
    "    n_classes = set(division)\n",
    "    \n",
    "    counts=[]\n",
    "    #count samples in each class then store it to list counts\n",
    "    #TODO:\n",
    "    for i in n_classes:\n",
    "        counts.append(np.sum(division == i))\n",
    "    \n",
    "    return entropy(counts,n_samples),n_samples\n",
    "\n",
    "\n",
    "def get_entropy(y_predict, y):\n",
    "    \"\"\"\n",
    "    Returns entropy of a split\n",
    "    y_predict is the split decision by cutoff, True/Fasle\n",
    "    \"\"\"\n",
    "    n = len(y)\n",
    "    s_true, n_true = entropy_of_one_division(y[y_predict]) # left hand side entropy\n",
    "    s_false, n_false = entropy_of_one_division(y[~y_predict]) # right hand side entropy\n",
    "    s = n_true/n * s_true + n_false/n * s_false # overall entropy\n",
    "    return s"
   ]
  },
  {
   "cell_type": "markdown",
   "metadata": {},
   "source": [
    "Độ lợi thông tin phân lớp tập D theo thuộc tính A:\n",
    "$$ Gain(A)=Entrophy(D)-Entrophy_{A}(D)$$\n",
    "\n",
    "Trong ID3, tại mỗi node, thuộc tính được chọn được xác định dựa trên là thuộc tính khiến cho information gain đạt giá trị lớn nhất.\n",
    "\n",
    "Các thuộc tính của tập Iris đều có giá trị liên tục. Do đó ta cần rời rạc hóa cho từng thuộc tính. Cách đơn giản là sử dụng một ngưỡng `cutoff` chia giá trị của dữ liệu trên mỗi thuộc tính sẽ làm 2 phần: `value<cutoff` và `value>=cutoff`.\n",
    "\n",
    "Để tìm ngưỡng `cutoff` tốt nhất cho mỗi thuộc tính ta lần lượt thay `cutoff` bằng các giá trị của thuộc tính sau đó tính entropy, `cutoff` tốt nhất khi entropy bé nhất.  "
   ]
  },
  {
   "cell_type": "markdown",
   "metadata": {},
   "source": [
    "### 1.1.2 Decision tree"
   ]
  },
  {
   "cell_type": "code",
   "execution_count": 5,
   "metadata": {},
   "outputs": [],
   "source": [
    "class DecisionTreeClassifier:\n",
    "    def __init__(self, tree=None, depth=0):\n",
    "        '''Parameters:\n",
    "        -----------------\n",
    "        tree: decision tree\n",
    "        depth: depth of decision tree after training'''\n",
    "        \n",
    "        self.depth = depth\n",
    "        self.tree=tree\n",
    "    def fit(self, X, y, node={}, depth=0):\n",
    "        '''Parameter:\n",
    "        -----------------\n",
    "        X: training data\n",
    "        y: label of training data\n",
    "        ------------------\n",
    "        return: node \n",
    "        \n",
    "        node: each node represented by cutoff value and column index, value and children.\n",
    "         - cutoff value is thresold where you divide your attribute\n",
    "         - column index is your data attribute index\n",
    "         - value of node is mean value of label indexes, \n",
    "           if a node is leaf all data samples will have same label\n",
    "        \n",
    "        Note that: we divide each attribute into 2 part => each node will have 2 children: left, right.\n",
    "        '''\n",
    "        \n",
    "        #Stop conditions\n",
    "        \n",
    "        #if all value of y are the same \n",
    "        if np.all(y==y[0]):\n",
    "            return {'val':y[0]}\n",
    "\n",
    "        else: \n",
    "            col_idx, cutoff, entropy = self.find_best_split_of_all(X, y)    # find one split given an information gain \n",
    "            y_left = y[X[:, col_idx] < cutoff]\n",
    "            y_right = y[X[:, col_idx] >= cutoff]\n",
    "            node = {'index_col':col_idx,\n",
    "                        'cutoff':cutoff,\n",
    "                   'val':np.mean(y)}\n",
    "            node['left'] = self.fit(X[X[:, col_idx] < cutoff], y_left, {}, depth+1)\n",
    "            node['right'] = self.fit(X[X[:, col_idx] >= cutoff], y_right, {}, depth+1)\n",
    "            self.depth += 1 \n",
    "            self.tree = node\n",
    "            return node\n",
    "    \n",
    "    def find_best_split_of_all(self, X, y):\n",
    "        col_idx = None\n",
    "        min_entropy = 1\n",
    "        cutoff = None\n",
    "        for i, col_data in enumerate(X.T):\n",
    "            entropy, cur_cutoff = self.find_best_split(col_data, y)\n",
    "            if entropy == 0:                   #best entropy\n",
    "                return i, cur_cutoff, entropy\n",
    "            elif entropy <= min_entropy:\n",
    "                min_entropy = entropy\n",
    "                col_idx = i\n",
    "                cutoff = cur_cutoff\n",
    "               \n",
    "        return col_idx, cutoff, min_entropy\n",
    "    \n",
    "    def find_best_split(self, col_data, y):\n",
    "        ''' Parameters:\n",
    "        -------------\n",
    "        col_data: data samples in column'''\n",
    "         \n",
    "        min_entropy = 10\n",
    "        cutoff = None\n",
    "\n",
    "        #Loop through col_data find cutoff where entropy is minimum\n",
    "        #TODO\n",
    "        for value in np.unique(col_data):\n",
    "            y_predict = col_data < value\n",
    "            entropy = get_entropy(y_predict, y)\n",
    "            \n",
    "            if entropy == 0:  # best entropy\n",
    "                return entropy, value\n",
    "            elif entropy <= min_entropy:\n",
    "                min_entropy = entropy\n",
    "                cutoff = value\n",
    "    \n",
    "        return min_entropy, cutoff\n",
    "                                               \n",
    "    def predict(self, X):\n",
    "        tree = self.tree\n",
    "        pred = np.zeros(shape=len(X))\n",
    "        for i, c in enumerate(X):\n",
    "            pred[i] = self._predict(c)\n",
    "        return pred\n",
    "    \n",
    "    def _predict(self, row):\n",
    "        cur_layer = self.tree\n",
    "        while cur_layer.get('cutoff'):\n",
    "            if row[cur_layer['index_col']] < cur_layer['cutoff']:\n",
    "                cur_layer = cur_layer['left']\n",
    "            else:\n",
    "                cur_layer = cur_layer['right']\n",
    "        else:\n",
    "            return cur_layer.get('val')"
   ]
  },
  {
   "cell_type": "markdown",
   "metadata": {},
   "source": [
    "### 1.1.3 Classification on Iris Dataset"
   ]
  },
  {
   "cell_type": "code",
   "execution_count": 6,
   "metadata": {},
   "outputs": [
    {
     "name": "stdout",
     "output_type": "stream",
     "text": [
      "Accuracy of your decision tree model on training data: 1.0\n",
      "Accuracy of your decision tree model: 0.96\n"
     ]
    }
   ],
   "source": [
    "model = DecisionTreeClassifier()\n",
    "tree = model.fit(X_train, y_train)\n",
    "pred=model.predict(X_train)\n",
    "print('Accuracy of your decision tree model on training data:', accuracy_score(y_train,pred))\n",
    "pred=model.predict(X_test)\n",
    "print('Accuracy of your decision tree model:', accuracy_score(y_test,pred))"
   ]
  },
  {
   "cell_type": "markdown",
   "metadata": {},
   "source": [
    "## 1.2 CART (Classification and Regression Trees) (2 đ)"
   ]
  },
  {
   "cell_type": "markdown",
   "metadata": {},
   "source": [
    "Các bạn tự cài đặt lại thuật toán CART và test trên tập dữ liệu Iris (tham khảo cách trình bày ở `phần 1.1`)"
   ]
  },
  {
   "cell_type": "markdown",
   "metadata": {},
   "source": [
    "### Gini Index\n",
    "\n",
    "- Công thức:\n",
    "$$Gini(D)=1-\\sum_{i=1}^{n}p_i^2$$\n",
    "- Gini index càng nhỏ thì độ tinh khiết của tập dữ liệu càng cao."
   ]
  },
  {
   "cell_type": "code",
   "execution_count": 7,
   "metadata": {},
   "outputs": [],
   "source": [
    "def gini_index(counts, n_samples):\n",
    "    res = 1\n",
    "    for count in counts:\n",
    "        if count == 0: continue\n",
    "        pi = count / n_samples\n",
    "        res -= pi ** 2\n",
    "    \n",
    "    return res"
   ]
  },
  {
   "cell_type": "markdown",
   "metadata": {},
   "source": [
    "### 1.2.2 Decision Tree"
   ]
  },
  {
   "cell_type": "code",
   "execution_count": 8,
   "metadata": {},
   "outputs": [],
   "source": [
    "class Node:\n",
    "    \"\"\"Tree node for CART decision tree\"\"\"\n",
    "    def __init__(self, predicted_class=None, threshold=None, feature_index=None, \n",
    "                 left=None, right=None, gini=None, n_samples=None):\n",
    "        self.predicted_class = predicted_class\n",
    "        self.threshold = threshold\n",
    "        self.feature_index = feature_index\n",
    "        self.left = left\n",
    "        self.right = right\n",
    "        self.gini = gini\n",
    "        self.n_samples = n_samples\n",
    "\n",
    "class DecisionTreeClassifierWithGini:\n",
    "    \"\"\"CART Decision Tree Classifier using Gini impurity\"\"\"\n",
    "    def __init__(self, max_depth=None, min_samples_split=2):\n",
    "        self.max_depth = max_depth\n",
    "        self.min_samples_split = min_samples_split\n",
    "        self.root = None\n",
    "        self.n_classes = None\n",
    "    \n",
    "    def _best_split(self, X, y):\n",
    "        \"\"\"Find the best split for a node\"\"\"\n",
    "        best_gini = float('inf')\n",
    "        best_threshold = None\n",
    "        best_feature = None\n",
    "        n_samples = len(y)\n",
    "        \n",
    "        # If pure node, return immediately\n",
    "        if len(np.unique(y)) == 1:\n",
    "            return None, None, gini_index(np.bincount(y, minlength=self.n_classes), n_samples)\n",
    "            \n",
    "        # Try each feature\n",
    "        for feature_idx in range(X.shape[1]):\n",
    "            # Get unique values for threshold testing\n",
    "            thresholds = np.unique(X[:, feature_idx])\n",
    "            \n",
    "            # Try each threshold\n",
    "            for threshold in thresholds:\n",
    "                left_mask = X[:, feature_idx] <= threshold\n",
    "                \n",
    "                # Skip if split would result in empty node\n",
    "                if not 0 < left_mask.sum() < n_samples:\n",
    "                    continue\n",
    "                    \n",
    "                # Calculate gini impurity for split\n",
    "                left_counts = np.bincount(y[left_mask], minlength=self.n_classes)\n",
    "                right_counts = np.bincount(y[~left_mask], minlength=self.n_classes)\n",
    "                \n",
    "                left_gini = gini_index(left_counts, left_mask.sum())\n",
    "                right_gini = gini_index(right_counts, (~left_mask).sum())\n",
    "                \n",
    "                # Weighted average of gini values\n",
    "                gini = (left_mask.sum() * left_gini + (~left_mask).sum() * right_gini) / n_samples\n",
    "                \n",
    "                # Update best split if this split is better\n",
    "                if gini < best_gini:\n",
    "                    best_gini = gini\n",
    "                    best_threshold = threshold\n",
    "                    best_feature = feature_idx\n",
    "                    \n",
    "        return best_feature, best_threshold, best_gini\n",
    "    \n",
    "    def _build_tree(self, X, y, depth=0):\n",
    "        \"\"\"Recursively build the decision tree\"\"\"\n",
    "        n_samples = len(y)\n",
    "        \n",
    "        # Count samples per class\n",
    "        classes, counts = np.unique(y, return_counts=True)\n",
    "        \n",
    "        # Check stopping criteria\n",
    "        if ((self.max_depth is not None and depth >= self.max_depth) or \n",
    "            n_samples < self.min_samples_split or \n",
    "            len(classes) == 1):\n",
    "            return Node(\n",
    "                predicted_class=classes[np.argmax(counts)],\n",
    "                gini=gini_index(np.bincount(y, minlength=self.n_classes), n_samples),\n",
    "                n_samples=n_samples\n",
    "            )\n",
    "        \n",
    "        # Find best split\n",
    "        feature_idx, threshold, gini = self._best_split(X, y)\n",
    "        \n",
    "        # If no valid split found, make leaf node\n",
    "        if feature_idx is None:\n",
    "            return Node(\n",
    "                predicted_class=classes[np.argmax(counts)],\n",
    "                gini=gini,\n",
    "                n_samples=n_samples\n",
    "            )\n",
    "        \n",
    "        # Split data\n",
    "        left_mask = X[:, feature_idx] <= threshold\n",
    "        \n",
    "        # Create decision node\n",
    "        node = Node(\n",
    "            feature_index=feature_idx,\n",
    "            threshold=threshold,\n",
    "            gini=gini,\n",
    "            n_samples=n_samples\n",
    "        )\n",
    "        \n",
    "        # Recursively build children\n",
    "        node.left = self._build_tree(X[left_mask], y[left_mask], depth + 1)\n",
    "        node.right = self._build_tree(X[~left_mask], y[~left_mask], depth + 1)\n",
    "        \n",
    "        return node\n",
    "    \n",
    "    def fit(self, X, y):\n",
    "        \"\"\"Fit decision tree to training data\"\"\"\n",
    "        self.n_classes = len(np.unique(y))\n",
    "        self.root = self._build_tree(X, y)\n",
    "        return self\n",
    "    \n",
    "    def _predict_single(self, x, node):\n",
    "        \"\"\"Predict class for a single sample\"\"\"\n",
    "        if node.predicted_class is not None:\n",
    "            return node.predicted_class\n",
    "            \n",
    "        if x[node.feature_index] <= node.threshold:\n",
    "            return self._predict_single(x, node.left)\n",
    "        return self._predict_single(x, node.right)\n",
    "    \n",
    "    def predict(self, X):\n",
    "        \"\"\"Predict classes for multiple samples\"\"\"\n",
    "        return np.array([self._predict_single(x, self.root) for x in X])"
   ]
  },
  {
   "cell_type": "markdown",
   "metadata": {},
   "source": [
    "### 1.2.3 Classification on Iris Dataset\n"
   ]
  },
  {
   "cell_type": "code",
   "execution_count": 9,
   "metadata": {},
   "outputs": [
    {
     "name": "stdout",
     "output_type": "stream",
     "text": [
      "Accuracy of your decision tree model on training data: 0.97\n",
      "Accuracy of your decision tree model on test data: 0.98\n"
     ]
    }
   ],
   "source": [
    "model = DecisionTreeClassifierWithGini(max_depth=3)\n",
    "tree = model.fit(X_train, y_train)\n",
    "\n",
    "pred_train = model.predict(X_train)\n",
    "print('Accuracy of your decision tree model on training data:', accuracy_score(y_train, pred_train))\n",
    "\n",
    "pred_test = model.predict(X_test)\n",
    "print('Accuracy of your decision tree model on test data:', accuracy_score(y_test, pred_test))"
   ]
  },
  {
   "cell_type": "markdown",
   "metadata": {},
   "source": [
    "## 1.3 Câu hỏi lý thuyết (2 đ)"
   ]
  },
  {
   "cell_type": "markdown",
   "metadata": {},
   "source": [
    "*Đây là câu hỏi về lý thuyết có thể giúp các bạn buổi sung kiến thức cho các buổi phỏng vấn. Các bạn có thể tham khảo bất kì nguồn nào trừ ChatGPT và có thể thêm hình ảnh minh họa để có câu trả lời rõ ràng và dễ hiểu nhất. Và khi đã tham khảo phải liệt kê tài liệu tham khảo? Trường hợp phát hiện đạo văn bài làm sẽ nhận 0 điểm ngay lập tức.*"
   ]
  },
  {
   "cell_type": "markdown",
   "metadata": {},
   "source": [
    "##### 1. So sánh Entropy, Gini Impurity và Variance Reduction trong Decision Tree. Khi nào nên sử dụng mỗi tiêu chí?\n",
    "\n",
    "Câu trả lời:\n",
    "\n",
    "Trong Decision Tree, Entropy, Gini Impurity và Variance Reduction là các tiêu chí được sử dụng để đánh giá độ \"tinh khiết\" của một tập dữ liệu (node) và chọn thuộc tính tốt nhất để phân chia dữ liệu tại mỗi node. Mục tiêu là giảm độ \"bất ổn\" (impurity) hoặc \"không chắc chắn\" (uncertainty) trong các node con sau khi phân chia.\n",
    "\n",
    "*   **Entropy và Gini Impurity:** Dùng cho bài toán phân loại (classification). Entropy thường được ưu tiên khi muốn tính toán độ \"bất ổn\" chính xác, Gini Impurity khi ưu tiên hiệu suất tính toán.\n",
    "*   **Variance Reduction:** Dùng cho bài toán hồi quy (regression)."
   ]
  },
  {
   "cell_type": "markdown",
   "metadata": {},
   "source": [
    "##### 2. Overfitting trong Decision Tree là gì? Bạn có thể làm gì để giảm thiểu vấn đề này?\n",
    "Câu trả lời:\n",
    " -   Overfitting xảy ra khi Decision Tree được huấn luyện quá kỹ trên dữ liệu huấn luyện, dẫn đến việc nó ghi nhớ các chi tiết nhiễu (noise) hoặc các trường hợp ngoại lệ trong dữ liệu huấn luyện thay vì học được các quy luật tổng quát.\n",
    " -   Hậu quả là cây quyết định hoạt động rất tốt trên dữ liệu huấn luyện, nhưng lại hoạt động kém khi được áp dụng lên dữ liệu mới, chưa từng thấy (dữ liệu kiểm tra).\n",
    " -   Biểu hiện của overfitting trong Decision Tree thường là một cây rất sâu, có nhiều node lá, và có nhiều nhánh chỉ xử lý các trường hợp đặc biệt trong dữ liệu huấn luyện."
   ]
  },
  {
   "cell_type": "markdown",
   "metadata": {},
   "source": [
    "##### 3. Decision Tree có phù hợp cho dữ liệu nhiều chiều hoặc dữ liệu không cân bằng không? Tại sao? \n",
    "Câu trả lời:\n",
    "\n",
    "Descision Tree không lý tưởng cho dữ liệu nhiều chiều hoặc dữ liệu không cân bằng. Vì:\n",
    "*   **Dữ liệu nhiều chiều (High-dimensional data):**\n",
    "    *   **Không lý tưởng:** Decision Tree có thể gặp khó khăn do \"Curse of dimensionality\", dẫn đến overfitting và tốn nhiều tài nguyên. Cây có thể trở nên quá phức tạp, ghi nhớ chi tiết nhiễu thay vì học quy luật chung.\n",
    "    *   **Lý do:** Số lượng thuộc tính lớn làm tăng số nhánh và node, khiến việc chọn thuộc tính phân chia tốt trở nên khó khăn.\n",
    "    *   **Cần:** Các biện pháp giảm chiều dữ liệu, kỹ thuật điều chuẩn hoặc sử dụng các mô hình ensemble (như Random Forest).\n",
    "*   **Dữ liệu không cân bằng (Imbalanced data):**\n",
    "    *   **Không lý tưởng:** Decision Tree có xu hướng nghiêng về lớp đa số, bỏ qua các lớp thiểu số quan trọng.\n",
    "    *   **Lý do:** Cây được tối ưu để giảm lỗi tổng thể, và dễ dàng đạt được điều đó bằng cách dự đoán đúng cho lớp đa số.\n",
    "    *   **Cần:** Các kỹ thuật như trọng số mẫu, upsampling, downsampling, SMOTE, cost-sensitive learning hoặc sử dụng các mô hình ensemble."
   ]
  },
  {
   "cell_type": "markdown",
   "metadata": {},
   "source": [
    "##### 4. Nếu bạn có một Decision Tree quá lớn (deep tree), bạn sẽ làm gì để cải thiện khả năng tổng quát của nó?\n",
    "Câu trả lời:\n",
    "\n",
    "Khi một Decision Tree quá lớn (deep tree), nó thường bị overfitting, tức là hoạt động rất tốt trên dữ liệu huấn luyện nhưng kém trên dữ liệu mới. Để cải thiện khả năng tổng quát của nó, có thể thực hiện các biện pháp sau, tương tự như đã đề cập trong câu 2:\n",
    "\n",
    "1.  **Giới hạn chiều sâu của cây (Maximum Depth):**\n",
    "    *   Sử dụng tham số `max_depth` để giới hạn số lượng level tối đa của cây. Điều này ngăn cây không đi quá sâu và bắt đầu ghi nhớ dữ liệu huấn luyện một cách cụ thể.\n",
    "    *   Bạn có thể tìm giá trị `max_depth` phù hợp bằng cách sử dụng kỹ thuật cross-validation và theo dõi hiệu suất của mô hình trên dữ liệu kiểm tra.\n",
    "2.  **Tăng số lượng mẫu tối thiểu trên một node (Minimum Samples Split/Leaf):**\n",
    "    *   Sử dụng tham số `min_samples_split` để yêu cầu một số lượng mẫu tối thiểu để node được chia tiếp.\n",
    "    *   Sử dụng tham số `min_samples_leaf` để yêu cầu một số lượng mẫu tối thiểu trong mỗi node lá.\n",
    "    *   Các tham số này giúp ngăn cây tạo ra các node lá quá nhỏ hoặc không đáng tin cậy.\n",
    "3.  **Tỉa cây (Pruning):**\n",
    "    *   **Pre-pruning:** Áp dụng các ràng buộc ngay từ đầu bằng cách sử dụng `max_depth`, `min_samples_split`, `min_samples_leaf`,...\n",
    "    *   **Post-pruning:** Cho phép cây phát triển hết, sau đó loại bỏ các nhánh không quan trọng bằng cách sử dụng các thuật toán tỉa cây như Reduced Error Pruning hoặc Cost-Complexity Pruning.\n",
    "4.  **Sử dụng Cross-Validation:**\n",
    "    *   Chia dữ liệu thành nhiều phần (ví dụ: k-fold cross-validation).\n",
    "    *   Huấn luyện mô hình trên các tập dữ liệu huấn luyện khác nhau và đánh giá hiệu suất trên tập dữ liệu kiểm tra tương ứng.\n",
    "    *   Sử dụng hiệu suất trung bình trên các tập kiểm tra để đánh giá hiệu quả của mô hình và chọn các giá trị tham số tốt nhất.\n",
    "5.  **Sử dụng Ensemble Methods:**\n",
    "    *   Thay vì một Decision Tree, hãy sử dụng các phương pháp ensemble như Random Forest hoặc Gradient Boosting.\n",
    "    *   Các mô hình ensemble kết hợp kết quả dự đoán của nhiều Decision Tree khác nhau, thường cho kết quả tốt hơn và ít bị overfitting hơn so với một Decision Tree đơn lẻ.\n",
    "6.  **Lựa chọn thuộc tính (Feature Selection) và tạo thuộc tính (Feature Engineering):**\n",
    "    *   Kiểm tra xem có thuộc tính nào không đóng góp nhiều vào kết quả và loại bỏ chúng.\n",
    "    *   Có thể tạo thêm thuộc tính mới từ các thuộc tính hiện có để cung cấp thông tin có ích hơn cho mô hình.\n",
    "7.  **Thử nghiệm với nhiều tham số khác nhau:**\n",
    "    *   Sử dụng Grid Search hoặc Random Search kết hợp với Cross-Validation để tìm ra tổ hợp các giá trị tham số tốt nhất cho mô hình."
   ]
  },
  {
   "cell_type": "markdown",
   "metadata": {},
   "source": [
    "##### Tài liệu tham khảo:\n",
    "*   Géron, A. (2019). *Hands-on machine learning with Scikit-Learn, Keras & TensorFlow: Concepts, tools, and techniques to build intelligent systems*. O'Reilly Media. (Chapter 6: Decision Trees)\n",
    "*   Hastie, T., Tibshirani, R., & Friedman, J. (2009). *The elements of statistical learning: data mining, inference, and prediction*. Springer Science & Business Media. (Chapter 9: Additive Models, Trees, and Related Methods)\n",
    "*   w3schools. (n.d.). Python Machine Learning - Decision Tree. Retrieved from https://www.w3schools.com/python/python_ml_decision_tree.asp"
   ]
  },
  {
   "cell_type": "markdown",
   "metadata": {},
   "source": [
    "## 2. Định lý Bayes (4 đ)\n",
    "\n",
    "Định lý Bayes được phát biểu dưới dạng toán học như sau:\n",
    "$$\\begin{equation}\n",
    "P\\left(A|B\\right)= \\dfrac{P\\left(B|A\\right)P\\left(A\\right)}{P\\left(B\\right)}\n",
    "\\end{equation}$$\n",
    "\n",
    "Nếu ta coi $B$ là dữ liệu $\\mathcal{D}$, các thông số cần ước tính $A$ là $w$, ta có:\n",
    "\n",
    "$$ \\begin{align}\n",
    "    \\underbrace{P(w|\\mathcal{D})}_{Posterior}= \\dfrac{1}{\\underbrace{P(\\mathcal{D})}_{Normalization}} \\overbrace{P(\\mathcal{D}|w)}^{\\text{Likelihood}} \\overbrace{P(w)}^{Prior}\n",
    "    \\end{align}\n",
    "$$"
   ]
  },
  {
   "cell_type": "markdown",
   "metadata": {},
   "source": [
    "#### Naive Bayes\n",
    "Để giúp cho việc tính toán được đơn giản, người ta thường giả sử một cách đơn giản nhất rằng các thành phần của biến ngẫu nhiên $D$ (hay các thuộc tính của dữ liệu $D$) là độc lập với nhau, nếu biết $w$. Tức là:\n",
    "$$P(\\mathcal{D}|w)=\\prod _{i=1}^{d}P(x_i|w)$$\n",
    "\n",
    "$d$: số lượng thuộc tính\n"
   ]
  },
  {
   "cell_type": "markdown",
   "metadata": {},
   "source": [
    "## 2.1 Probability Density Function"
   ]
  },
  {
   "cell_type": "code",
   "execution_count": 10,
   "metadata": {},
   "outputs": [],
   "source": [
    "class pdf:\n",
    "    def __init__(self,hist=None):\n",
    "        '''\n",
    "        A probability density function represented by a histogram\n",
    "        \n",
    "        hist: shape (n,1), n: number of hypotheses\n",
    "        hypo: hypothesis (simply understand as label)\n",
    "        hist[hypo]=P(hypo)\n",
    "        '''\n",
    "        self.hist = hist\n",
    "        \n",
    "    #virtual function\n",
    "    def likelihood(self, data, hypo):\n",
    "        '''Paramters:\n",
    "        data: new data record \n",
    "        hypo: hypothesis (simply understand as label)\n",
    "        ---------\n",
    "        return P(data/hypo)\n",
    "        ''' \n",
    "        raise Exception()\n",
    "            \n",
    "    #update histogram for new data \n",
    "    def update(self, data):\n",
    "        ''' \n",
    "        P(hypo/data)=P(data/hypo)*P(hypo)*(1/P(data))\n",
    "        '''\n",
    "        \n",
    "        #Likelihood * Prior \n",
    "        #TODO\n",
    "        for hypo in self.hist.keys():\n",
    "            self.hist[hypo] *= self.likelihood(data, hypo)\n",
    "       \n",
    "            \n",
    "        #Normalization\n",
    "        \n",
    "        #TODO: s=P(data)\n",
    "        #s=?\n",
    "        s = 0\n",
    "        for hypo in self.hist.keys():\n",
    "            s += self.hist[hypo]\n",
    "\n",
    "        for hypo in self.hist.keys():\n",
    "            self.hist[hypo] = self.hist[hypo]/s\n",
    "        \n",
    "    def plot_pdf(self):\n",
    "        #plot Histogram\n",
    "        #TODO\n",
    "        plt.bar(self.hist.keys(), self.hist.values())\n",
    "        plt.show()\n",
    "      \n",
    "    \n",
    "    def maxHypo(self):\n",
    "        #find the hypothesis with maximum probability from hist\n",
    "        #TODO\n",
    "        return max(self.hist, key=self.hist.get)\n",
    "        \n",
    "\n"
   ]
  },
  {
   "cell_type": "markdown",
   "metadata": {},
   "source": [
    "## 2.2 Classification on Iris Dataset"
   ]
  },
  {
   "cell_type": "markdown",
   "metadata": {},
   "source": [
    "#### Gaussian Naive Bayes"
   ]
  },
  {
   "cell_type": "markdown",
   "metadata": {},
   "source": [
    "- Naive Bayes có thể được mở rộng cho dữ liệu với các thuộc tính có giá trị là số thực, phổ biến nhất bằng cách sử dụng phân phối chuẩn (Gaussian distribution).\n",
    "\n",
    "- Phần mở rộng này được gọi là Gaussian Naive Bayes. Các hàm khác có thể được sử dụng để ước tính phân phối dữ liệu, nhưng Gaussian (hoặc phân phối chuẩn) là dễ nhất để làm việc vì chỉ cần ước tính giá trị trung bình và độ lệch chuẩn từ dữ liệu huấn luyện."
   ]
  },
  {
   "cell_type": "markdown",
   "metadata": {},
   "source": [
    "#### Định nghĩa hàm Gauss "
   ]
  },
  {
   "cell_type": "markdown",
   "metadata": {},
   "source": [
    "$$ f\\left(x;\\mu,\\sigma \\right)= \\dfrac{1}{\\sigma \\sqrt{2\\pi}} \n",
    "\\exp \\left({-\\dfrac{\\left(x-\\mu\\right)^2}{2 \\sigma^2}}\\right) $$"
   ]
  },
  {
   "cell_type": "code",
   "execution_count": 11,
   "metadata": {},
   "outputs": [],
   "source": [
    "def Gauss(std,mean,x):\n",
    "    #Calculate the Gaussian probability distribution function for x\n",
    "    #TODO \n",
    "    exp = -((x - mean) ** 2) / (2 * std ** 2)\n",
    "    return (1 / (std * np.sqrt(2 * np.pi))) * np.exp(exp)"
   ]
  },
  {
   "cell_type": "code",
   "execution_count": 12,
   "metadata": {},
   "outputs": [],
   "source": [
    "class NBGaussian(pdf):\n",
    "    def __init__(self, hist=None, std=None, mean=None):\n",
    "        '''Parameters:\n",
    "        \n",
    "        '''\n",
    "        pdf.__init__(self, hist)\n",
    "        self.std=std\n",
    "        self.mean=mean\n",
    "    def likelihood(self,data, hypo):\n",
    "        '''\n",
    "        Returns: P(data/hypo)\n",
    "        -----------------\n",
    "        Naive bayes:\n",
    "            Atributes are assumed to be conditionally independent given the class value.\n",
    "        '''\n",
    "    \n",
    "        std=self.std[hypo]\n",
    "        mean=self.mean[hypo]\n",
    "        res=1\n",
    "        #TODO\n",
    "        #res=res*P(xi/hypo)\n",
    "        for i in range(len(data)):\n",
    "            res *= Gauss(std[i], mean[i], data[i])\n",
    "            \n",
    "        return res \n",
    "    def fit(self, X,y):\n",
    "        \"\"\"Parameters:\n",
    "        X: training data\n",
    "        y: labels of training data\n",
    "        \"\"\"\n",
    "        n=len(X)\n",
    "        #number of iris species\n",
    "        #TODO\n",
    "        n_species = len(np.unique(y))\n",
    "        \n",
    "        hist={}\n",
    "        mean={}\n",
    "        std={}\n",
    "        \n",
    "        #separate  dataset into rows by class\n",
    "        for hypo in range(0,n_species):\n",
    "            #TODO rows=?\n",
    "            rows = np.count_nonzero(y == hypo)\n",
    "            \n",
    "            #histogram for each hypo\n",
    "            #TODO probability=?\n",
    "            probability = rows / n\n",
    "            hist[hypo] = probability\n",
    "            \n",
    "            #Gaussian naive bayes each hypothesis represented by its mean and standard derivation\n",
    "            '''mean and standard derivation should be calculated for each column (or each attribute)'''\n",
    "            #TODO mean[hypo]=?, std[hypo]=?\n",
    "            mean[hypo] = np.mean(X[y == hypo], axis=0)\n",
    "            std[hypo] = np.std(X[y == hypo], axis=0)\n",
    "         \n",
    "        self.mean=mean\n",
    "        self.std=std\n",
    "        self.hist=hist\n",
    "   \n",
    "    def _predict(self, data, plot=False):\n",
    "        \"\"\"\n",
    "        Predict label for only 1 data record\n",
    "        ------------\n",
    "        Parameters:\n",
    "        data: new data record\n",
    "        plot: True: draw histogram after update new record\n",
    "        -----------\n",
    "        return: label of data\n",
    "        \"\"\"\n",
    "        model=NBGaussian(hist=self.hist.copy(),std=self.std.copy(), mean=self.mean.copy())\n",
    "        model.update(data)\n",
    "        if (plot): model.plot_pdf()\n",
    "        return model.maxHypo()\n",
    "    \n",
    "    def predict(self, data):\n",
    "        \"\"\"Parameters:\n",
    "        Data: test data\n",
    "        ----------\n",
    "        return labels of test data\"\"\"\n",
    "        \n",
    "        pred=[]\n",
    "        for x in data:\n",
    "            pred.append(self._predict(x))\n",
    "        return pred"
   ]
  },
  {
   "cell_type": "markdown",
   "metadata": {},
   "source": [
    "#### Vẽ histogram of training data"
   ]
  },
  {
   "cell_type": "code",
   "execution_count": 13,
   "metadata": {},
   "outputs": [
    {
     "data": {
      "image/png": "[encoded data removed]",
      "text/plain": [
       "<Figure size 640x480 with 1 Axes>"
      ]
     },
     "metadata": {},
     "output_type": "display_data"
    }
   ],
   "source": [
    "model_1=NBGaussian()\n",
    "model_1.fit(X_train, y_train)\n",
    "model_1.plot_pdf()"
   ]
  },
  {
   "cell_type": "markdown",
   "metadata": {},
   "source": [
    "Nhận xét chart:\n",
    "- Các histogram có dạng hình chuông, đối xứng qua trục tung, và có đỉnh tại giá trị trung bình của dữ liệu.\n",
    "- Các histogram có độ rộng khác nhau, phản ánh sự khác biệt về độ biến thiên của dữ liệu giữa các lớp.\n",
    "- Các histogram có đỉnh cao hơn ở các lớp 0 và 1, phản ánh sự phân bố dữ liệu tập trung hơn ở các lớp này."
   ]
  },
  {
   "cell_type": "markdown",
   "metadata": {},
   "source": [
    "#### Test"
   ]
  },
  {
   "cell_type": "code",
   "execution_count": 14,
   "metadata": {},
   "outputs": [
    {
     "name": "stdout",
     "output_type": "stream",
     "text": [
      "Label of X_test[10]:  2\n",
      "Our histogram after update X_test[10]: \n"
     ]
    },
    {
     "data": {
      "image/png": "[encoded data removed]",
      "text/plain": [
       "<Figure size 640x480 with 1 Axes>"
      ]
     },
     "metadata": {},
     "output_type": "display_data"
    },
    {
     "data": {
      "text/plain": [
       "2"
      ]
     },
     "execution_count": 14,
     "metadata": {},
     "output_type": "execute_result"
    }
   ],
   "source": [
    "#label of y_test[10]\n",
    "print('Label of X_test[10]: ', y_test[10])\n",
    "#update model and show histogram with X_test[10]:\n",
    "\n",
    "print('Our histogram after update X_test[10]: ')\n",
    "model_1._predict(X_test[10],plot=True)\n"
   ]
  },
  {
   "cell_type": "markdown",
   "metadata": {},
   "source": [
    "#### Đánh giá hiệu suất mô hình Gaussian Naive Bayes"
   ]
  },
  {
   "cell_type": "code",
   "execution_count": 15,
   "metadata": {},
   "outputs": [
    {
     "name": "stdout",
     "output_type": "stream",
     "text": [
      "Accuracy of your Gaussian Naive Bayes model: 0.96\n"
     ]
    }
   ],
   "source": [
    "pred=model_1.predict(X_test)\n",
    "print('Accuracy of your Gaussian Naive Bayes model:', accuracy_score(y_test,pred))"
   ]
  },
  {
   "cell_type": "markdown",
   "metadata": {},
   "source": [
    "## 2.3 Một số câu hỏi lí thuyết"
   ]
  },
  {
   "cell_type": "markdown",
   "metadata": {},
   "source": [
    "*Đây là câu hỏi về lý thuyết có thể giúp các bạn buổi sung kiến thức cho các buổi phỏng vấn. Các bạn có thể tham khảo bất kì nguồn nào trừ ChatGPT và có thể thêm hình ảnh minh họa để có câu trả lời rõ ràng và dễ hiểu nhất. Và khi đã tham khảo phải liệt kê tài liệu tham khảo? Trường hợp phát hiện đạo văn bài làm sẽ nhận 0 điểm ngay lập tức.*"
   ]
  },
  {
   "cell_type": "markdown",
   "metadata": {},
   "source": [
    "##### 1. Trường hợp sử dụng Gaussian Naive Bayes? Nêu chí tiết và cho 3 ứng dụng cụ thể (nêu rõ: input là gì? output là gì? mục tiêu sử dụng?)?\n",
    "\n",
    "Câu trả lời:\n",
    "\n",
    "Gaussian Naive Bayes là một phiên bản của thuật toán Naive Bayes, nó được sử dụng khi các thuộc tính (features) đầu vào là **liên tục** và được giả định tuân theo phân phối Gaussian (phân phối chuẩn).\n",
    "\n",
    "**Chi tiết về cách hoạt động:**\n",
    "\n",
    "*   **Giả định:** Các thuộc tính là độc lập với nhau khi cho một lớp (class) cụ thể. Điều này thường là một giả định \"ngây thơ\" (naive), nhưng thường hoạt động tốt trong thực tế.\n",
    "*   **Phân phối Gaussian:** Với mỗi thuộc tính và mỗi lớp, Gaussian Naive Bayes ước tính các tham số của phân phối Gaussian:\n",
    "    *   **Trung bình (mean):** Trung bình của các giá trị thuộc tính trong lớp đó.\n",
    "    *   **Phương sai (variance):** Phương sai của các giá trị thuộc tính trong lớp đó.\n",
    "*   **Tính xác suất:** Khi có một mẫu mới, thuật toán sẽ tính xác suất mẫu đó thuộc về mỗi lớp dựa trên phân phối Gaussian của từng thuộc tính và áp dụng định lý Bayes để tính xác suất hậu nghiệm (posterior probability).\n",
    "*   **Phân loại:** Mẫu sẽ được gán cho lớp có xác suất hậu nghiệm cao nhất.\n",
    "\n",
    "**3 Ứng dụng cụ thể:**\n",
    "\n",
    "| Ứng dụng | Input | Output | Mục tiêu sử dụng |\n",
    "| -------- | ----- | ------ | ---------------- |\n",
    "| **1. Phân loại email spam/không spam** | Các đặc trưng của email (ví dụ: độ dài email, số từ, tần suất các từ nhất định) | Nhãn phân loại: \"spam\" hoặc \"không spam\" | Phân loại email tự động, lọc email rác, bảo vệ hộp thư người dùng. |\n",
    "| **2. Phân loại bệnh dựa trên kết quả xét nghiệm** | Kết quả các xét nghiệm máu (ví dụ: nồng độ đường, cholesterol, tế bào máu)   | Nhãn phân loại: bệnh (hoặc không bệnh) hoặc các loại bệnh cụ thể  | Hỗ trợ bác sĩ trong việc chẩn đoán bệnh, phân loại bệnh nhân, hỗ trợ quyết định điều trị                               |\n",
    "| **3. Phân loại người dùng dựa trên hoạt động web**| Các hành vi của người dùng trên web (ví dụ: thời gian truy cập, trang đã xem, sản phẩm đã mua)| Nhãn phân loại: Các nhóm người dùng (ví dụ: khách hàng tiềm năng, khách hàng trung thành) | Phân loại người dùng, cá nhân hóa trải nghiệm, gợi ý sản phẩm phù hợp, nhắm mục tiêu quảng cáo, cải thiện dịch vụ. |\n"
   ]
  },
  {
   "cell_type": "markdown",
   "metadata": {},
   "source": [
    "##### 2. Có điều kiện bắt buộc nào của dữ liệu đầu vào khi sử dụng Gaussian Naive Bayes không?\n",
    "\n",
    "Câu trả lời:\n",
    "\n",
    "Có một số điều kiện quan trọng về dữ liệu đầu vào khi sử dụng Gaussian Naive Bayes:\n",
    "\n",
    "1.  **Thuộc tính liên tục:** Dữ liệu đầu vào phải là các thuộc tính liên tục (ví dụ: chiều cao, cân nặng, nhiệt độ, giá trị xét nghiệm). Gaussian Naive Bayes không phù hợp với thuộc tính rời rạc (ví dụ: màu sắc, giới tính). Nếu dữ liệu có thuộc tính rời rạc, nên cân nhắc các biến thể khác của Naive Bayes như Multinomial Naive Bayes hoặc Bernoulli Naive Bayes.\n",
    "2.  **Phân phối Gaussian (phân phối chuẩn):** Thuật toán giả định rằng mỗi thuộc tính (feature) theo một phân phối Gaussian trong mỗi lớp. Nếu thuộc tính không tuân theo phân phối này (hoặc phân phối khác biệt quá nhiều), hiệu suất có thể giảm. Tuy nhiên, trong thực tế, thuật toán vẫn hoạt động tốt ngay cả khi giả định này không hoàn toàn đúng.\n",
    "3.  **Tính độc lập:** Gaussian Naive Bayes giả định rằng các thuộc tính là độc lập với nhau khi cho một lớp cụ thể. Đây là một giả định \"ngây thơ\" và thường không đúng trong thực tế. Tuy nhiên, thuật toán thường vẫn mang lại kết quả khá tốt ngay cả khi giả định này bị vi phạm.\n",
    "4.  **Không có giá trị thiếu:** Gaussian Naive Bayes hoạt động tốt nhất khi dữ liệu không có giá trị thiếu (NaN). Cần xử lý giá trị thiếu trước khi sử dụng thuật toán (ví dụ: thay thế bằng giá trị trung bình hoặc loại bỏ mẫu).\n",
    "5. **Dữ liệu số:** Dữ liệu đầu vào phải là dữ liệu số, không được có dữ liệu dạng chữ."
   ]
  },
  {
   "cell_type": "markdown",
   "metadata": {},
   "source": [
    "##### 3. Tại sao Naive Bayes thường được sử dụng trong các bài toán phân loại văn bản (Text Classification)?\n",
    "Câu trả lời :\n",
    "\n",
    "Naive Bayes là một thuật toán phân loại văn bản thường được sử dụng trong các bài toán phân loại văn bản (Text Classification) vì:\n",
    "\n",
    "1.  **Nhanh và đơn giản:** Naive Bayes là một thuật toán đơn giản và dễ cài đặt. Nó có tốc độ huấn luyện nhanh chóng, đặc biệt là với dữ liệu lớn.\n",
    "2.  **Hiệu quả với dữ liệu nhiều chiều:** Các bài toán phân loại văn bản thường có số lượng thuộc tính (từ vựng) rất lớn. Mặc dù có giả định hạn chế về tính độc lập, Naive Bayes vẫn hoạt động tốt với dữ liệu nhiều chiều như vậy.\n",
    "3.  **Xử lý tốt dữ liệu rời rạc:** Các từ trong văn bản là các thuộc tính rời rạc (dạng \"túi từ - bag of words\", hoặc TF-IDF), và Multinomial Naive Bayes là một biến thể của Naive Bayes được thiết kế đặc biệt để xử lý các thuộc tính rời rạc dạng này.\n",
    "4.  **Hoạt động tốt với ít dữ liệu:** Naive Bayes có thể hoạt động tốt ngay cả khi lượng dữ liệu huấn luyện không quá lớn, nhờ giả định độc lập của nó.\n",
    "\n",
    "**Tuy nhiên:**\n",
    "\n",
    "*   Giả định về tính độc lập là một hạn chế lớn của Naive Bayes. Các từ trong văn bản thường không độc lập với nhau (ví dụ, các cụm từ hoặc các từ có liên quan ngữ nghĩa). Tuy nhiên, dù có hạn chế này, Naive Bayes vẫn cho kết quả tốt trong nhiều trường hợp thực tế.\n",
    "*   Cần tiền xử lý dữ liệu văn bản (ví dụ: loại bỏ stop words, stem/lemmatize từ) để có kết quả tốt nhất."
   ]
  },
  {
   "cell_type": "markdown",
   "metadata": {},
   "source": [
    "##### Tài liệu tham khảo:\n",
    "*   Scikit-learn documentation. (n.d.). *sklearn.naive_bayes.GaussianNB*. Retrieved from [https://scikit-learn.org/stable/modules/generated/sklearn.naive_bayes.GaussianNB.html](https://scikit-learn.org/stable/modules/generated/sklearn.naive_bayes.GaussianNB.html)"
   ]
  },
  {
   "cell_type": "markdown",
   "metadata": {},
   "source": [
    "## Tài liệu tham khảo"
   ]
  },
  {
   "cell_type": "markdown",
   "metadata": {},
   "source": [
    "*   Géron, A. (2019). *Hands-on machine learning with Scikit-Learn, Keras & TensorFlow: Concepts, tools, and techniques to build intelligent systems*. O'Reilly Media.\n",
    "*   Hastie, T., Tibshirani, R., & Friedman, J. (2009). *The elements of statistical learning: data mining, inference, and prediction*. Springer Science & Business Media.\n",
    "*   Scikit-learn documentation. (n.d.). *sklearn.naive_bayes.GaussianNB*. Retrieved from [https://scikit-learn.org/stable/modules/generated/sklearn.naive_bayes.GaussianNB.html](https://scikit-learn.org/stable/modules/generated/sklearn.naive_bayes.GaussianNB.html)\n",
    "*   w3schools. (n.d.). *Python Machine Learning - Decision Tree*. Retrieved from [https://www.w3schools.com/python/python_ml_decision_tree.asp](https://www.w3schools.com/python/python_ml_decision_tree.asp)"
   ]
  }
 ],
 "metadata": {
  "kernelspec": {
   "display_name": "Python 3 (ipykernel)",
   "language": "python",
   "name": "python3"
  },
  "language_info": {
   "codemirror_mode": {
    "name": "ipython",
    "version": 3
   },
   "file_extension": ".py",
   "mimetype": "text/x-python",
   "name": "python",
   "nbconvert_exporter": "python",
   "pygments_lexer": "ipython3",
   "version": "3.11.6"
  }
 },
 "nbformat": 4,
 "nbformat_minor": 4
}
